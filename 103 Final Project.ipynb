{
 "cells": [
  {
   "cell_type": "markdown",
   "metadata": {},
   "source": [
    "## Group 103 Final Project\n",
    "\n",
    "**Team Members**: Michael Bell, Xiaosong \"Jack\" Xu<br/>\n",
    "Data Source: http://www.trumptwitterarchive.com/archive"
   ]
  },
  {
   "cell_type": "markdown",
   "metadata": {},
   "source": [
    "### Table of Contents\n",
    "* [Import Libraries](#imp)\n",
    "* [Manual Classifications](#classify)\n",
    "* [Clean Data](#clean)\n",
    "* [Split](#split)\n",
    "* [Train & Evaluate](#TE)"
   ]
  },
  {
   "cell_type": "markdown",
   "metadata": {},
   "source": [
    "<a id='imp'></a>\n",
    "### Import Libraries & Raw Data"
   ]
  },
  {
   "cell_type": "code",
   "execution_count": 1,
   "metadata": {},
   "outputs": [],
   "source": [
    "import requests\n",
    "import pandas as pd\n",
    "import csv\n",
    "import re\n",
    "from nltk.corpus import stopwords\n",
    "from bs4 import BeautifulSoup\n",
    "import matplotlib.pyplot as plt\n",
    "from sklearn.feature_extraction.text import TfidfVectorizer, CountVectorizer\n",
    "from yellowbrick.text import FreqDistVisualizer\n",
    "from sklearn.model_selection import train_test_split,cross_validate\n",
    "from sklearn.ensemble import RandomForestClassifier\n",
    "from sklearn.svm import LinearSVC\n",
    "from sklearn.naive_bayes import MultinomialNB\n",
    "from sklearn.linear_model import LogisticRegression\n",
    "from sklearn.model_selection import cross_val_score\n",
    "import seaborn as sns\n",
    "\n",
    "%matplotlib inline"
   ]
  },
  {
   "cell_type": "code",
   "execution_count": 2,
   "metadata": {},
   "outputs": [
    {
     "data": {
      "text/html": [
       "<div>\n",
       "<style scoped>\n",
       "    .dataframe tbody tr th:only-of-type {\n",
       "        vertical-align: middle;\n",
       "    }\n",
       "\n",
       "    .dataframe tbody tr th {\n",
       "        vertical-align: top;\n",
       "    }\n",
       "\n",
       "    .dataframe thead th {\n",
       "        text-align: right;\n",
       "    }\n",
       "</style>\n",
       "<table border=\"1\" class=\"dataframe\">\n",
       "  <thead>\n",
       "    <tr style=\"text-align: right;\">\n",
       "      <th></th>\n",
       "      <th>source</th>\n",
       "      <th>text</th>\n",
       "      <th>created_at</th>\n",
       "      <th>retweet_count</th>\n",
       "      <th>favorite_count</th>\n",
       "      <th>is_retweet</th>\n",
       "      <th>id_str</th>\n",
       "    </tr>\n",
       "  </thead>\n",
       "  <tbody>\n",
       "    <tr>\n",
       "      <th>0</th>\n",
       "      <td>Twitter for iPhone</td>\n",
       "      <td>...Remember this. Throughout the ages some thi...</td>\n",
       "      <td>1/1/2019 1:05</td>\n",
       "      <td>28529.0</td>\n",
       "      <td>135209.0</td>\n",
       "      <td>False</td>\n",
       "      <td>1.079910e+18</td>\n",
       "    </tr>\n",
       "    <tr>\n",
       "      <th>1</th>\n",
       "      <td>Twitter for iPhone</td>\n",
       "      <td>The Democrats will probably submit a Bill bein...</td>\n",
       "      <td>1/1/2019 0:51</td>\n",
       "      <td>22897.0</td>\n",
       "      <td>99239.0</td>\n",
       "      <td>False</td>\n",
       "      <td>1.079900e+18</td>\n",
       "    </tr>\n",
       "    <tr>\n",
       "      <th>2</th>\n",
       "      <td>Twitter for iPhone</td>\n",
       "      <td>MEXICO IS PAYING FOR THE WALL through the many...</td>\n",
       "      <td>1/1/2019 0:40</td>\n",
       "      <td>23882.0</td>\n",
       "      <td>104440.0</td>\n",
       "      <td>False</td>\n",
       "      <td>1.079900e+18</td>\n",
       "    </tr>\n",
       "    <tr>\n",
       "      <th>3</th>\n",
       "      <td>Twitter for iPhone</td>\n",
       "      <td>HAPPY NEW YEAR! https://t.co/bHoPDPQ7G6</td>\n",
       "      <td>12/31/2018 23:53</td>\n",
       "      <td>32999.0</td>\n",
       "      <td>132907.0</td>\n",
       "      <td>False</td>\n",
       "      <td>1.079890e+18</td>\n",
       "    </tr>\n",
       "    <tr>\n",
       "      <th>4</th>\n",
       "      <td>Twitter for iPhone</td>\n",
       "      <td>Heads of countries are calling wanting to know...</td>\n",
       "      <td>12/31/2018 20:02</td>\n",
       "      <td>20519.0</td>\n",
       "      <td>74566.0</td>\n",
       "      <td>False</td>\n",
       "      <td>1.079830e+18</td>\n",
       "    </tr>\n",
       "  </tbody>\n",
       "</table>\n",
       "</div>"
      ],
      "text/plain": [
       "               source                                               text  \\\n",
       "0  Twitter for iPhone  ...Remember this. Throughout the ages some thi...   \n",
       "1  Twitter for iPhone  The Democrats will probably submit a Bill bein...   \n",
       "2  Twitter for iPhone  MEXICO IS PAYING FOR THE WALL through the many...   \n",
       "3  Twitter for iPhone            HAPPY NEW YEAR! https://t.co/bHoPDPQ7G6   \n",
       "4  Twitter for iPhone  Heads of countries are calling wanting to know...   \n",
       "\n",
       "         created_at  retweet_count  favorite_count is_retweet        id_str  \n",
       "0     1/1/2019 1:05        28529.0        135209.0      False  1.079910e+18  \n",
       "1     1/1/2019 0:51        22897.0         99239.0      False  1.079900e+18  \n",
       "2     1/1/2019 0:40        23882.0        104440.0      False  1.079900e+18  \n",
       "3  12/31/2018 23:53        32999.0        132907.0      False  1.079890e+18  \n",
       "4  12/31/2018 20:02        20519.0         74566.0      False  1.079830e+18  "
      ]
     },
     "execution_count": 2,
     "metadata": {},
     "output_type": "execute_result"
    }
   ],
   "source": [
    "data = pd.read_csv(r'TrumpTweets.csv')\n",
    "data.head()"
   ]
  },
  {
   "cell_type": "code",
   "execution_count": 3,
   "metadata": {},
   "outputs": [
    {
     "name": "stderr",
     "output_type": "stream",
     "text": [
      "C:\\Users\\mbell113538\\AppData\\Local\\Continuum\\anaconda3\\lib\\site-packages\\ipykernel_launcher.py:2: SettingWithCopyWarning: \n",
      "A value is trying to be set on a copy of a slice from a DataFrame.\n",
      "Try using .loc[row_indexer,col_indexer] = value instead\n",
      "\n",
      "See the caveats in the documentation: http://pandas.pydata.org/pandas-docs/stable/indexing.html#indexing-view-versus-copy\n",
      "  \n"
     ]
    },
    {
     "data": {
      "text/html": [
       "<div>\n",
       "<style scoped>\n",
       "    .dataframe tbody tr th:only-of-type {\n",
       "        vertical-align: middle;\n",
       "    }\n",
       "\n",
       "    .dataframe tbody tr th {\n",
       "        vertical-align: top;\n",
       "    }\n",
       "\n",
       "    .dataframe thead th {\n",
       "        text-align: right;\n",
       "    }\n",
       "</style>\n",
       "<table border=\"1\" class=\"dataframe\">\n",
       "  <thead>\n",
       "    <tr style=\"text-align: right;\">\n",
       "      <th></th>\n",
       "      <th>text</th>\n",
       "      <th>created_at</th>\n",
       "      <th>retweet_count</th>\n",
       "      <th>favorite_count</th>\n",
       "      <th>id_str</th>\n",
       "      <th>class</th>\n",
       "    </tr>\n",
       "  </thead>\n",
       "  <tbody>\n",
       "    <tr>\n",
       "      <th>0</th>\n",
       "      <td>...Remember this. Throughout the ages some thi...</td>\n",
       "      <td>1/1/2019 1:05</td>\n",
       "      <td>28529.0</td>\n",
       "      <td>135209.0</td>\n",
       "      <td>1.079910e+18</td>\n",
       "      <td></td>\n",
       "    </tr>\n",
       "    <tr>\n",
       "      <th>1</th>\n",
       "      <td>The Democrats will probably submit a Bill bein...</td>\n",
       "      <td>1/1/2019 0:51</td>\n",
       "      <td>22897.0</td>\n",
       "      <td>99239.0</td>\n",
       "      <td>1.079900e+18</td>\n",
       "      <td></td>\n",
       "    </tr>\n",
       "    <tr>\n",
       "      <th>2</th>\n",
       "      <td>MEXICO IS PAYING FOR THE WALL through the many...</td>\n",
       "      <td>1/1/2019 0:40</td>\n",
       "      <td>23882.0</td>\n",
       "      <td>104440.0</td>\n",
       "      <td>1.079900e+18</td>\n",
       "      <td></td>\n",
       "    </tr>\n",
       "    <tr>\n",
       "      <th>3</th>\n",
       "      <td>HAPPY NEW YEAR! https://t.co/bHoPDPQ7G6</td>\n",
       "      <td>12/31/2018 23:53</td>\n",
       "      <td>32999.0</td>\n",
       "      <td>132907.0</td>\n",
       "      <td>1.079890e+18</td>\n",
       "      <td></td>\n",
       "    </tr>\n",
       "    <tr>\n",
       "      <th>4</th>\n",
       "      <td>Heads of countries are calling wanting to know...</td>\n",
       "      <td>12/31/2018 20:02</td>\n",
       "      <td>20519.0</td>\n",
       "      <td>74566.0</td>\n",
       "      <td>1.079830e+18</td>\n",
       "      <td></td>\n",
       "    </tr>\n",
       "  </tbody>\n",
       "</table>\n",
       "</div>"
      ],
      "text/plain": [
       "                                                text        created_at  \\\n",
       "0  ...Remember this. Throughout the ages some thi...     1/1/2019 1:05   \n",
       "1  The Democrats will probably submit a Bill bein...     1/1/2019 0:51   \n",
       "2  MEXICO IS PAYING FOR THE WALL through the many...     1/1/2019 0:40   \n",
       "3            HAPPY NEW YEAR! https://t.co/bHoPDPQ7G6  12/31/2018 23:53   \n",
       "4  Heads of countries are calling wanting to know...  12/31/2018 20:02   \n",
       "\n",
       "   retweet_count  favorite_count        id_str class  \n",
       "0        28529.0        135209.0  1.079910e+18        \n",
       "1        22897.0         99239.0  1.079900e+18        \n",
       "2        23882.0        104440.0  1.079900e+18        \n",
       "3        32999.0        132907.0  1.079890e+18        \n",
       "4        20519.0         74566.0  1.079830e+18        "
      ]
     },
     "execution_count": 3,
     "metadata": {},
     "output_type": "execute_result"
    }
   ],
   "source": [
    "df = data[['text', 'created_at', 'retweet_count', 'favorite_count', 'id_str']] #eliminate columns not needed\n",
    "df[\"class\"] = \"\"\n",
    "df.head()"
   ]
  },
  {
   "cell_type": "markdown",
   "metadata": {},
   "source": [
    "<a id='classify'></a>\n",
    "### Classify based on key words to create a working dataset for train/test"
   ]
  },
  {
   "cell_type": "code",
   "execution_count": 53,
   "metadata": {},
   "outputs": [
    {
     "name": "stderr",
     "output_type": "stream",
     "text": [
      "C:\\Users\\mbell113538\\AppData\\Local\\Continuum\\anaconda3\\lib\\site-packages\\ipykernel_launcher.py:2: SettingWithCopyWarning: \n",
      "A value is trying to be set on a copy of a slice from a DataFrame\n",
      "\n",
      "See the caveats in the documentation: http://pandas.pydata.org/pandas-docs/stable/indexing.html#indexing-view-versus-copy\n",
      "  \n",
      "C:\\Users\\mbell113538\\AppData\\Local\\Continuum\\anaconda3\\lib\\site-packages\\ipykernel_launcher.py:3: SettingWithCopyWarning: \n",
      "A value is trying to be set on a copy of a slice from a DataFrame\n",
      "\n",
      "See the caveats in the documentation: http://pandas.pydata.org/pandas-docs/stable/indexing.html#indexing-view-versus-copy\n",
      "  This is separate from the ipykernel package so we can avoid doing imports until\n",
      "C:\\Users\\mbell113538\\AppData\\Local\\Continuum\\anaconda3\\lib\\site-packages\\ipykernel_launcher.py:6: SettingWithCopyWarning: \n",
      "A value is trying to be set on a copy of a slice from a DataFrame\n",
      "\n",
      "See the caveats in the documentation: http://pandas.pydata.org/pandas-docs/stable/indexing.html#indexing-view-versus-copy\n",
      "  \n",
      "C:\\Users\\mbell113538\\AppData\\Local\\Continuum\\anaconda3\\lib\\site-packages\\ipykernel_launcher.py:7: SettingWithCopyWarning: \n",
      "A value is trying to be set on a copy of a slice from a DataFrame\n",
      "\n",
      "See the caveats in the documentation: http://pandas.pydata.org/pandas-docs/stable/indexing.html#indexing-view-versus-copy\n",
      "  import sys\n",
      "C:\\Users\\mbell113538\\AppData\\Local\\Continuum\\anaconda3\\lib\\site-packages\\ipykernel_launcher.py:8: SettingWithCopyWarning: \n",
      "A value is trying to be set on a copy of a slice from a DataFrame\n",
      "\n",
      "See the caveats in the documentation: http://pandas.pydata.org/pandas-docs/stable/indexing.html#indexing-view-versus-copy\n",
      "  \n",
      "C:\\Users\\mbell113538\\AppData\\Local\\Continuum\\anaconda3\\lib\\site-packages\\ipykernel_launcher.py:9: SettingWithCopyWarning: \n",
      "A value is trying to be set on a copy of a slice from a DataFrame\n",
      "\n",
      "See the caveats in the documentation: http://pandas.pydata.org/pandas-docs/stable/indexing.html#indexing-view-versus-copy\n",
      "  if __name__ == '__main__':\n"
     ]
    },
    {
     "data": {
      "text/html": [
       "<div>\n",
       "<style scoped>\n",
       "    .dataframe tbody tr th:only-of-type {\n",
       "        vertical-align: middle;\n",
       "    }\n",
       "\n",
       "    .dataframe tbody tr th {\n",
       "        vertical-align: top;\n",
       "    }\n",
       "\n",
       "    .dataframe thead th {\n",
       "        text-align: right;\n",
       "    }\n",
       "</style>\n",
       "<table border=\"1\" class=\"dataframe\">\n",
       "  <thead>\n",
       "    <tr style=\"text-align: right;\">\n",
       "      <th></th>\n",
       "      <th>text</th>\n",
       "      <th>created_at</th>\n",
       "      <th>retweet_count</th>\n",
       "      <th>favorite_count</th>\n",
       "      <th>id_str</th>\n",
       "      <th>class</th>\n",
       "    </tr>\n",
       "  </thead>\n",
       "  <tbody>\n",
       "    <tr>\n",
       "      <th>4</th>\n",
       "      <td>heads countries calling wanting know senator s...</td>\n",
       "      <td>12/31/2018 20:02</td>\n",
       "      <td>20519.0</td>\n",
       "      <td>74566.0</td>\n",
       "      <td>1.079830e+18</td>\n",
       "      <td>positive</td>\n",
       "    </tr>\n",
       "    <tr>\n",
       "      <th>9</th>\n",
       "      <td>person america could say im bringing great tro...</td>\n",
       "      <td>12/31/2018 14:38</td>\n",
       "      <td>25252.0</td>\n",
       "      <td>111582.0</td>\n",
       "      <td>1.079750e+18</td>\n",
       "      <td>negative</td>\n",
       "    </tr>\n",
       "    <tr>\n",
       "      <th>19</th>\n",
       "      <td>absolutely nothing russian collusion kimberley...</td>\n",
       "      <td>12/30/2018 3:01</td>\n",
       "      <td>30777.0</td>\n",
       "      <td>118155.0</td>\n",
       "      <td>1.079210e+18</td>\n",
       "      <td>negative</td>\n",
       "    </tr>\n",
       "    <tr>\n",
       "      <th>20</th>\n",
       "      <td>2018 called year worker steve moore coauthor t...</td>\n",
       "      <td>12/29/2018 21:06</td>\n",
       "      <td>25797.0</td>\n",
       "      <td>109238.0</td>\n",
       "      <td>1.079120e+18</td>\n",
       "      <td>positive</td>\n",
       "    </tr>\n",
       "    <tr>\n",
       "      <th>40</th>\n",
       "      <td>democrats obstruction desperately needed wall ...</td>\n",
       "      <td>12/27/2018 19:41</td>\n",
       "      <td>20172.0</td>\n",
       "      <td>84780.0</td>\n",
       "      <td>1.078380e+18</td>\n",
       "      <td>negative</td>\n",
       "    </tr>\n",
       "  </tbody>\n",
       "</table>\n",
       "</div>"
      ],
      "text/plain": [
       "                                                 text        created_at  \\\n",
       "4   heads countries calling wanting know senator s...  12/31/2018 20:02   \n",
       "9   person america could say im bringing great tro...  12/31/2018 14:38   \n",
       "19  absolutely nothing russian collusion kimberley...   12/30/2018 3:01   \n",
       "20  2018 called year worker steve moore coauthor t...  12/29/2018 21:06   \n",
       "40  democrats obstruction desperately needed wall ...  12/27/2018 19:41   \n",
       "\n",
       "    retweet_count  favorite_count        id_str     class  \n",
       "4         20519.0         74566.0  1.079830e+18  positive  \n",
       "9         25252.0        111582.0  1.079750e+18  negative  \n",
       "19        30777.0        118155.0  1.079210e+18  negative  \n",
       "20        25797.0        109238.0  1.079120e+18  positive  \n",
       "40        20172.0         84780.0  1.078380e+18  negative  "
      ]
     },
     "execution_count": 53,
     "metadata": {},
     "output_type": "execute_result"
    }
   ],
   "source": [
    "#classify based on key words to get a working dataset\n",
    "df[\"class\"][df['text'].str.contains(\"thank you\")] = \"positive\"\n",
    "df[\"class\"][df['text'].str.contains(\"trump\")] = \"positive\"\n",
    "#df[\"class\"][df['text'].str.contains(\"great\")] = \"positive\"\n",
    "\n",
    "df[\"class\"][df['text'].str.contains(\"horrible\")] = \"negative\"\n",
    "df[\"class\"][df['text'].str.contains(\"worst\")] = \"negative\"\n",
    "df[\"class\"][df['text'].str.contains(\"fake\")] = \"negative\"\n",
    "df[\"class\"][df['text'].str.contains(\"democrats\")] = \"negative\"\n",
    "df.head()"
   ]
  },
  {
   "cell_type": "code",
   "execution_count": 54,
   "metadata": {},
   "outputs": [
    {
     "data": {
      "image/png": "[encoded data removed]",
      "text/plain": [
       "<Figure size 720x144 with 1 Axes>"
      ]
     },
     "metadata": {
      "needs_background": "light"
     },
     "output_type": "display_data"
    }
   ],
   "source": [
    "plt.figure(figsize=(10,2))\n",
    "plt.title(\"Count of classes\")\n",
    "df['class'].value_counts().plot(kind='bar');"
   ]
  },
  {
   "cell_type": "code",
   "execution_count": 55,
   "metadata": {},
   "outputs": [
    {
     "data": {
      "text/plain": [
       "(582, 6)"
      ]
     },
     "execution_count": 55,
     "metadata": {},
     "output_type": "execute_result"
    }
   ],
   "source": [
    "#eliminate blank classes\n",
    "df = df.loc[df['class'] != '']\n",
    "df.shape"
   ]
  },
  {
   "cell_type": "code",
   "execution_count": 56,
   "metadata": {},
   "outputs": [
    {
     "data": {
      "image/png": "[encoded data removed]",
      "text/plain": [
       "<Figure size 864x576 with 1 Axes>"
      ]
     },
     "metadata": {
      "needs_background": "light"
     },
     "output_type": "display_data"
    },
    {
     "data": {
      "text/plain": [
       "<matplotlib.axes._subplots.AxesSubplot at 0x17153fd97b8>"
      ]
     },
     "execution_count": 56,
     "metadata": {},
     "output_type": "execute_result"
    }
   ],
   "source": [
    "test = df.loc[df['class'] == '']\n",
    "\n",
    "vectorizer = CountVectorizer(ngram_range=(1, 2))\n",
    "docs       = vectorizer.fit_transform(df['text'])\n",
    "features   = vectorizer.get_feature_names()\n",
    "plt.figure(figsize=(12,8))\n",
    "visualizer = FreqDistVisualizer(features=features)\n",
    "\n",
    "visualizer.fit(docs)\n",
    "for label in visualizer.ax.texts:\n",
    "    label.set_size(20)\n",
    "visualizer.poof()"
   ]
  },
  {
   "cell_type": "code",
   "execution_count": 57,
   "metadata": {},
   "outputs": [
    {
     "data": {
      "text/plain": [
       "4     heads countries calling wanting know senator s...\n",
       "9     person america could say im bringing great tro...\n",
       "19    absolutely nothing russian collusion kimberley...\n",
       "20    2018 called year worker steve moore coauthor t...\n",
       "40    democrats obstruction desperately needed wall ...\n",
       "45    hope everyone even fake news media great chris...\n",
       "52    never lashed acting attorney general us man gr...\n",
       "70    pleased announce talented deputy secretary def...\n",
       "77    election said one greatest time based getting ...\n",
       "78    crisis illegal activity southern border real s...\n",
       "Name: text, dtype: object"
      ]
     },
     "execution_count": 57,
     "metadata": {},
     "output_type": "execute_result"
    }
   ],
   "source": [
    "df['text'][df['text'].str.contains(\"great\")].head(10)"
   ]
  },
  {
   "cell_type": "markdown",
   "metadata": {},
   "source": [
    "<a id='clean'></a>\n",
    "### Clean text and visualize uni-gram / bi-gram results"
   ]
  },
  {
   "cell_type": "code",
   "execution_count": 58,
   "metadata": {},
   "outputs": [],
   "source": [
    "REPLACE_BY_SPACE_RE = re.compile('[/(){}\\[\\]\\|@,;]')\n",
    "BAD_SYMBOLS_RE = re.compile('[^0-9a-z #+_]')\n",
    "STOPWORDS = set(stopwords.words('english'))\n",
    "STOPWORDS.add('tco') #additional manual word removal\n",
    "STOPWORDS.add('https') #additional manual word removal\n",
    "\n",
    "def clean_text(text):\n",
    "    \"\"\"\n",
    "        text: a string\n",
    "        \n",
    "        return: modified initial string\n",
    "    \"\"\"\n",
    "    text = BeautifulSoup(text, \"lxml\").text # HTML decoding\n",
    "    text = text.lower() # lowercase text\n",
    "    text = REPLACE_BY_SPACE_RE.sub(' ', text) # replace REPLACE_BY_SPACE_RE symbols by space in text\n",
    "    text = BAD_SYMBOLS_RE.sub('', text) # delete symbols which are in BAD_SYMBOLS_RE from text\n",
    "    text = ' '.join(word for word in text.split() if word not in STOPWORDS) # delete stopwors from text\n",
    "    return text\n",
    "\n",
    "df['text'] = df['text'].apply(clean_text)\n",
    "\n",
    "#Source: https://stackoverflow.com/questions/58603042/easier-way-to-clean-up-text"
   ]
  },
  {
   "cell_type": "code",
   "execution_count": 60,
   "metadata": {},
   "outputs": [
    {
     "data": {
      "image/png": "[encoded data removed]",
      "text/plain": [
       "<Figure size 864x576 with 1 Axes>"
      ]
     },
     "metadata": {
      "needs_background": "light"
     },
     "output_type": "display_data"
    },
    {
     "data": {
      "text/plain": [
       "<matplotlib.axes._subplots.AxesSubplot at 0x171576dbdd8>"
      ]
     },
     "execution_count": 60,
     "metadata": {},
     "output_type": "execute_result"
    }
   ],
   "source": [
    "vectorizer = CountVectorizer(ngram_range=(1, 2),min_df=2)\n",
    "docs       = vectorizer.fit_transform(df['text'],)\n",
    "features   = vectorizer.get_feature_names()\n",
    "plt.figure(figsize=(12,8))\n",
    "visualizer = FreqDistVisualizer(features=features,n=50)\n",
    "\n",
    "\n",
    "visualizer.fit(docs)\n",
    "for label in visualizer.ax.texts:\n",
    "    label.set_size(20)\n",
    "visualizer.poof()"
   ]
  },
  {
   "cell_type": "code",
   "execution_count": 61,
   "metadata": {},
   "outputs": [
    {
     "name": "stdout",
     "output_type": "stream",
     "text": [
      "Each of the 582 tweets is represented by 2252 features (TF-IDF score of unigrams and bigrams)\n"
     ]
    }
   ],
   "source": [
    "tfidf = TfidfVectorizer(sublinear_tf=True,\n",
    "                        ngram_range=(1, 2),\n",
    "                        min_df=2,\n",
    "                        stop_words='english')\n",
    "\n",
    "features = tfidf.fit_transform(df.text)\n",
    "labels = df.text\n",
    "print(\"Each of the %d tweets is represented by %d features (TF-IDF score of unigrams and bigrams)\" %(features.shape))"
   ]
  },
  {
   "cell_type": "markdown",
   "metadata": {},
   "source": [
    "<a id='split'></a>\n",
    "### Split data into train/test set"
   ]
  },
  {
   "cell_type": "code",
   "execution_count": 70,
   "metadata": {},
   "outputs": [
    {
     "name": "stdout",
     "output_type": "stream",
     "text": [
      "X_train shape:  (116, 1)\n",
      "y_train shape:  (116, 1)\n",
      "X_test shape:   (466, 1)\n",
      "y_test shape:   (466, 1)\n"
     ]
    }
   ],
   "source": [
    "X = df['text'] # Collection of documents\n",
    "y = df['class'] # Target or the labels we want to predict \n",
    "\n",
    "X_train, X_test, y_train, y_test = train_test_split(df[['text']], df[['class']], \n",
    "                                                    test_size=0.8,\n",
    "                                                    random_state = 42,\n",
    "                                                    stratify = df[['class']]) #stratify=y.iloc[:,1]\n",
    "print(\"X_train shape: \",X_train.shape)\n",
    "print(\"y_train shape: \",y_train.shape)\n",
    "print(\"X_test shape:  \",X_test.shape)\n",
    "print(\"y_test shape:  \",y_test.shape)"
   ]
  },
  {
   "cell_type": "markdown",
   "metadata": {},
   "source": [
    "<a id='TE'></a>\n",
    "### Train and Evaluate models"
   ]
  },
  {
   "cell_type": "code",
   "execution_count": 75,
   "metadata": {},
   "outputs": [
    {
     "name": "stderr",
     "output_type": "stream",
     "text": [
      "C:\\Users\\mbell113538\\AppData\\Local\\Continuum\\anaconda3\\lib\\site-packages\\sklearn\\model_selection\\_split.py:652: Warning: The least populated class in y has only 1 members, which is too few. The minimum number of members in any class cannot be less than n_splits=2.\n",
      "  % (min_groups, self.n_splits)), Warning)\n",
      "C:\\Users\\mbell113538\\AppData\\Local\\Continuum\\anaconda3\\lib\\site-packages\\sklearn\\model_selection\\_split.py:652: Warning: The least populated class in y has only 1 members, which is too few. The minimum number of members in any class cannot be less than n_splits=2.\n",
      "  % (min_groups, self.n_splits)), Warning)\n"
     ]
    },
    {
     "name": "stdout",
     "output_type": "stream",
     "text": [
      "               model_name  fold_idx  accuracy\n",
      "0  RandomForestClassifier         0  0.008666\n",
      "1  RandomForestClassifier         1  0.600000\n",
      "2               LinearSVC         0  0.008666\n",
      "3               LinearSVC         1  1.000000\n"
     ]
    }
   ],
   "source": [
    "models = [\n",
    "    RandomForestClassifier(n_estimators=100, max_depth=5, random_state=42),\n",
    "    LinearSVC()\n",
    "    #MultinomialNB(),\n",
    "    #LogisticRegression(random_state=42),\n",
    "]\n",
    "\n",
    "# Cross-validation\n",
    "CV = 2\n",
    "cv_df = pd.DataFrame(index=range(CV * len(models)))\n",
    "\n",
    "entries = []\n",
    "for model in models:\n",
    "  model_name = model.__class__.__name__\n",
    "  accuracies = cross_val_score(model, features, labels, scoring='accuracy', cv=CV)\n",
    "  for fold_idx, accuracy in enumerate(accuracies):\n",
    "    entries.append((model_name, fold_idx, accuracy))\n",
    "    \n",
    "cv_df = pd.DataFrame(entries, columns=['model_name', 'fold_idx', 'accuracy'])\n",
    "print(cv_df)"
   ]
  },
  {
   "cell_type": "code",
   "execution_count": 78,
   "metadata": {},
   "outputs": [
    {
     "data": {
      "text/html": [
       "<div>\n",
       "<style scoped>\n",
       "    .dataframe tbody tr th:only-of-type {\n",
       "        vertical-align: middle;\n",
       "    }\n",
       "\n",
       "    .dataframe tbody tr th {\n",
       "        vertical-align: top;\n",
       "    }\n",
       "\n",
       "    .dataframe thead th {\n",
       "        text-align: right;\n",
       "    }\n",
       "</style>\n",
       "<table border=\"1\" class=\"dataframe\">\n",
       "  <thead>\n",
       "    <tr style=\"text-align: right;\">\n",
       "      <th></th>\n",
       "      <th>Mean Accuracy</th>\n",
       "      <th>Standard deviation</th>\n",
       "    </tr>\n",
       "    <tr>\n",
       "      <th>model_name</th>\n",
       "      <th></th>\n",
       "      <th></th>\n",
       "    </tr>\n",
       "  </thead>\n",
       "  <tbody>\n",
       "    <tr>\n",
       "      <th>LinearSVC</th>\n",
       "      <td>0.504333</td>\n",
       "      <td>0.700979</td>\n",
       "    </tr>\n",
       "    <tr>\n",
       "      <th>RandomForestClassifier</th>\n",
       "      <td>0.304333</td>\n",
       "      <td>0.418137</td>\n",
       "    </tr>\n",
       "  </tbody>\n",
       "</table>\n",
       "</div>"
      ],
      "text/plain": [
       "                        Mean Accuracy  Standard deviation\n",
       "model_name                                               \n",
       "LinearSVC                    0.504333            0.700979\n",
       "RandomForestClassifier       0.304333            0.418137"
      ]
     },
     "execution_count": 78,
     "metadata": {},
     "output_type": "execute_result"
    }
   ],
   "source": [
    "mean_accuracy = cv_df.groupby('model_name').accuracy.mean()\n",
    "std_accuracy = cv_df.groupby('model_name').accuracy.std()\n",
    "\n",
    "acc = pd.concat([mean_accuracy, std_accuracy], axis= 1, \n",
    "          ignore_index=True)\n",
    "acc.columns = ['Mean Accuracy', 'Standard deviation']\n",
    "acc"
   ]
  },
  {
   "cell_type": "code",
   "execution_count": 77,
   "metadata": {},
   "outputs": [
    {
     "data": {
      "image/png": "[encoded data removed]",
      "text/plain": [
       "<Figure size 576x360 with 1 Axes>"
      ]
     },
     "metadata": {
      "needs_background": "light"
     },
     "output_type": "display_data"
    }
   ],
   "source": [
    "plt.figure(figsize=(8,5))\n",
    "sns.boxplot(x='model_name', y='accuracy', \n",
    "            data=cv_df, \n",
    "            color='lightblue', \n",
    "            showmeans=True)\n",
    "plt.title(\"Mean Accuracy\", size=14);"
   ]
  },
  {
   "cell_type": "markdown",
   "metadata": {},
   "source": [
    "Baseline model estiablished. Next Steps: Further feature engineering and model refinement"
   ]
  }
 ],
 "metadata": {
  "kernelspec": {
   "display_name": "Python 3",
   "language": "python",
   "name": "python3"
  },
  "language_info": {
   "codemirror_mode": {
    "name": "ipython",
    "version": 3
   },
   "file_extension": ".py",
   "mimetype": "text/x-python",
   "name": "python",
   "nbconvert_exporter": "python",
   "pygments_lexer": "ipython3",
   "version": "3.7.3"
  }
 },
 "nbformat": 4,
 "nbformat_minor": 2
}
